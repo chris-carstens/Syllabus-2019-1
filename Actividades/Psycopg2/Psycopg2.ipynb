{
 "cells": [
  {
   "cell_type": "markdown",
   "metadata": {},
   "source": [
    "# Psycopg2\n",
    "\n",
    "En este clase vamos a usar la librería `psycopg2`, la que nos permite conectar una base de datos PSQL con Python. Primero tenemos que conectarnos a la base de datos. Luego vamos a crear tablas e insertar valores."
   ]
  },
  {
   "cell_type": "code",
   "execution_count": 8,
   "metadata": {},
   "outputs": [],
   "source": [
    "import psycopg2\n",
    "\n",
    "conn = psycopg2.connect(\"dbname=progsql user=adriansotosuarez\")\n",
    "cur = conn.cursor()\n",
    "\n",
    "cur.execute(\"DROP TABLE IF EXISTS R;\")\n",
    "cur.execute(\"CREATE TABLE R (a int, b int, PRIMARY KEY(a, b));\")\n",
    "\n",
    "cur.execute(\"DROP TABLE IF EXISTS S;\")\n",
    "cur.execute(\"CREATE TABLE S (b int, c int, PRIMARY KEY(b, c));\")\n",
    "\n",
    "cur.execute(\"INSERT INTO R VALUES(1, 1);\")\n",
    "cur.execute(\"INSERT INTO R VALUES(2, 1);\")\n",
    "cur.execute(\"INSERT INTO R VALUES(3, 1);\")\n",
    "cur.execute(\"INSERT INTO R VALUES(1, 2);\")\n",
    "cur.execute(\"INSERT INTO R VALUES(2, 2);\")\n",
    "cur.execute(\"INSERT INTO R VALUES(1, 3);\")\n",
    "cur.execute(\"INSERT INTO R VALUES(1, 4);\")\n",
    "\n",
    "cur.execute(\"INSERT INTO S VALUES(1, 1);\")\n",
    "cur.execute(\"INSERT INTO S VALUES(1, 2);\")\n",
    "cur.execute(\"INSERT INTO S VALUES(3, 1);\")\n",
    "cur.execute(\"INSERT INTO S VALUES(4, 1);\")\n",
    "cur.execute(\"INSERT INTO S VALUES(4, 2);\")\n",
    "cur.execute(\"INSERT INTO S VALUES(4, 3);\")\n",
    "cur.execute(\"INSERT INTO S VALUES(5, 1);\")\n",
    "\n",
    "conn.commit()"
   ]
  },
  {
   "cell_type": "markdown",
   "metadata": {},
   "source": [
    "Si queremos hacer una consulta y mostrar los resultados:"
   ]
  },
  {
   "cell_type": "code",
   "execution_count": 10,
   "metadata": {},
   "outputs": [
    {
     "name": "stdout",
     "output_type": "stream",
     "text": [
      "(1, 1)\n",
      "(2, 1)\n",
      "(3, 1)\n"
     ]
    }
   ],
   "source": [
    "cur.execute(\"SELECT * FROM R WHERE R.b=1;\")\n",
    "\n",
    "t = cur.fetchone()\n",
    "while t:\n",
    "    print(t)\n",
    "    t = cur.fetchone()\n",
    "    \n",
    "cur.close()"
   ]
  },
  {
   "cell_type": "markdown",
   "metadata": {},
   "source": [
    "Vamos a ver un ejemplo más complejo. Vamos a hacer la consulta $R \\bowtie S$ suponiendo que sólo podemos hacer las consultas:\n",
    "\n",
    "- `SELECT * FROM R`;\n",
    "- `SELECT * FROM S`;"
   ]
  },
  {
   "cell_type": "code",
   "execution_count": 18,
   "metadata": {},
   "outputs": [
    {
     "name": "stdout",
     "output_type": "stream",
     "text": [
      "(1, 1) - (1, 1)\n",
      "(1, 1) - (1, 2)\n",
      "(2, 1) - (1, 1)\n",
      "(2, 1) - (1, 2)\n",
      "(3, 1) - (1, 1)\n",
      "(3, 1) - (1, 2)\n",
      "(1, 3) - (3, 1)\n",
      "(1, 4) - (4, 1)\n",
      "(1, 4) - (4, 2)\n",
      "(1, 4) - (4, 3)\n"
     ]
    }
   ],
   "source": [
    "cur_r = conn.cursor()\n",
    "cur_s = conn.cursor()\n",
    "\n",
    "cur_r.execute(\"SELECT * FROM R\")\n",
    "cur_s.execute(\"SELECT * FROM S\")\n",
    "\n",
    "t_r = cur_r.fetchone()\n",
    "while t_r:\n",
    "    \n",
    "    t_s = cur_s.fetchone()\n",
    "    while t_s:\n",
    "        if t_r[1] == t_s[0]:\n",
    "            print(\"{} - {}\".format(t_r, t_s))\n",
    "        t_s = cur_s.fetchone()\n",
    "    cur_s.execute(\"SELECT * FROM S\")\n",
    "    \n",
    "    t_r = cur_r.fetchone()\n",
    "    \n",
    "cur_r.close()\n",
    "cur_s.close()"
   ]
  },
  {
   "cell_type": "markdown",
   "metadata": {},
   "source": [
    "Finalmente, siempre es muy importante cerrar la conexión."
   ]
  },
  {
   "cell_type": "code",
   "execution_count": 19,
   "metadata": {},
   "outputs": [],
   "source": [
    "conn.close()"
   ]
  }
 ],
 "metadata": {
  "kernelspec": {
   "display_name": "Python 3",
   "language": "python",
   "name": "python3"
  },
  "language_info": {
   "codemirror_mode": {
    "name": "ipython",
    "version": 3
   },
   "file_extension": ".py",
   "mimetype": "text/x-python",
   "name": "python",
   "nbconvert_exporter": "python",
   "pygments_lexer": "ipython3",
   "version": "3.7.1"
  }
 },
 "nbformat": 4,
 "nbformat_minor": 2
}

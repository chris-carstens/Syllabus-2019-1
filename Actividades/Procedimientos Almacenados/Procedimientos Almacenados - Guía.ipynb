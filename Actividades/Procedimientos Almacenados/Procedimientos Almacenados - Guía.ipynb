{
 "cells": [
  {
   "cell_type": "markdown",
   "metadata": {},
   "source": [
    "# Guía Procedimientos Almacenados - PL/pgSQL"
   ]
  },
  {
   "cell_type": "code",
   "execution_count": null,
   "metadata": {},
   "outputs": [],
   "source": [
    "%load_ext sql"
   ]
  },
  {
   "cell_type": "markdown",
   "metadata": {},
   "source": [
    "Debes modificar la siguiente celda para que tenga los datos correctos para conectarse la instancia de PostgreSQL que corre en tu computador.\n",
    "\n",
    "``postgresql://<usuario_de_postgres>:<pass_de_postgres>@localhost/<nombre_db>``"
   ]
  },
  {
   "cell_type": "code",
   "execution_count": null,
   "metadata": {},
   "outputs": [],
   "source": [
    "%%sql \n",
    "postgresql://adriansotosuarez:@localhost/almacenados"
   ]
  },
  {
   "cell_type": "markdown",
   "metadata": {},
   "source": [
    "# Problema 1: Secuencia\n",
    "\n",
    "En el siguiente ejercicio mostraremos un ejemplo de creación de tablas auxiliares para lo que encontremos necesario. Eventualmente podríamos necesitar números ascendentes en forma de secuencia, pero en forma de tabla...\n",
    "\n",
    "Por ejemplo, para crear índices haciendo producto cruz con otra tabla. Pero la secuencia puede ser de largo variable. Podríamos optar por tener una tabla en nuestra base de datos que solo contenga números para este uso, pero esto complica el límite de cuántos números usar al tener que específicar en un ```WHERE``` cada vez que queramos utilizarla.\n",
    "\n",
    "Esto es mucho trabajo, la alternativa es crear una función capaz de generar esta tabla automáticamente, es decir buscamos una función ```seq(n)``` que retorne una tabla de una sola columna con enteros del 1 a n. Por ejemplo:\n",
    "\n",
    "```sql\n",
    "SELECT * FROM seq(5);\n",
    "\n",
    "1\n",
    "2\n",
    "3\n",
    "4\n",
    "5\n",
    "```"
   ]
  },
  {
   "cell_type": "markdown",
   "metadata": {},
   "source": [
    "Ahora deja de leer esto e intenta hacerlo tu mismo. Ten en cuenta lo siguiente: recuerda que la idea es crear una tabla auxiliar que aparece al llamado de ```seq```, es decir, si revisáramos las tablas de la base de datos luego de ejecutar ```seq```, no debería haber nuevas tablas."
   ]
  },
  {
   "cell_type": "code",
   "execution_count": null,
   "metadata": {},
   "outputs": [],
   "source": [
    "%%sql\n",
    "\n",
    "#Intenta resolver el ejercicio aqui!\n",
    "\n",
    "\n",
    "\n",
    "\n",
    "\n",
    "\n",
    "\n",
    "\n",
    "# Filtro Anti Spoilers!"
   ]
  },
  {
   "cell_type": "markdown",
   "metadata": {},
   "source": [
    "### Solución:"
   ]
  },
  {
   "cell_type": "code",
   "execution_count": null,
   "metadata": {},
   "outputs": [],
   "source": [
    "%%sql\n",
    "\n",
    "CREATE OR REPLACE FUNCTION seq(n integer)\n",
    "RETURNS TABLE (number integer) AS $$\n",
    "DECLARE\n",
    "i INTEGER;\n",
    "BEGIN\n",
    "    CREATE TABLE SEQ(number integer);\n",
    "    FOR i in 1 .. n LOOP\n",
    "        INSERT INTO SEQ VALUES(i);\n",
    "    END LOOP;\n",
    "    RETURN QUERY SELECT * FROM SEQ;\n",
    "    DROP TABLE SEQ;\n",
    "    RETURN;\n",
    "END;\n",
    "$$ language plpgsql;"
   ]
  },
  {
   "cell_type": "markdown",
   "metadata": {},
   "source": [
    "Si la vemos, es bastante directo. El parámetro de entrada como dijimos es un ```integer``` n, y la función retorna una tabla con una sola columna de tipo ```integer``` tambien (que llamamos ```number```). Luego creamos una tabla auxiliar para luego retornar ```SEQ``` e insertamos los números 1 a n mediante un ```FOR``` en nuestra tabla.\n",
    "\n",
    "Especificamos el valor de retorno con ```RETURN QUERY```, eliminamos la tabla auxiliar para no dejar rastro de tu creación, y luego retornamos la función con ```RETURN```."
   ]
  },
  {
   "cell_type": "markdown",
   "metadata": {},
   "source": [
    "### Propuesto\n",
    "\n",
    "Ahora intente expandir nuestra definición de ```seq```. Tendrá 3 parámetros, el inicio de la secuencia, el final y un incremento. Es decir, entrega una secuencia que parte en cierto valor, luego aumenta el valor segun el incremento hasta superar el valor final. Lo anterior es para el caso en que el incremento sea positivo, en caso contrario, debe iniciar en la posición final y disminuir hasta pasar el valor inicial. Con ejemplos:\n",
    "\n",
    "```sql\n",
    "SELECT * FROM seq(1,5,1);\n",
    "\n",
    "1\n",
    "2\n",
    "3\n",
    "4\n",
    "5\n",
    "\n",
    "SELECT * FROM seq(3,8,2);\n",
    "\n",
    "3\n",
    "5\n",
    "7\n",
    "\n",
    "SELECT * FROM seq(2,4,-1);\n",
    "\n",
    "4\n",
    "3\n",
    "2\n",
    "\n",
    "SELECT * FROM seq(3,2,-1);\n",
    "\n",
    "```\n",
    "\n",
    "Ojo con el caso final. Como en este caso la secuencia disminuye y comenzamos con 2 que ya es menor a 3, entrega la tabla vacía"
   ]
  },
  {
   "cell_type": "code",
   "execution_count": null,
   "metadata": {},
   "outputs": [],
   "source": [
    "%%sql\n",
    "\n",
    "# Intenta resolver el ejercicio aquí!"
   ]
  },
  {
   "cell_type": "markdown",
   "metadata": {},
   "source": [
    "# Problema 2: Resta Casera\n",
    "\n",
    "Otro buen ejercicio es realizar a mano operaciones nativas de SQL con procedimientos almacenados. En el siguiente realizamos la operación resta que conocimos en álgebra relacional y que existe como ```EXCEPT``` en SQL. Para recordar, esta recibe 2 tablas unión-compatibles (mismo número de columnas y de mismos tipos) y retorna aquella tabla que contiene todas las tuplas de la primera que no se encuentran en la segunda.\n",
    "\n",
    "Para simplificar, supongamos que existen 2 tablas **A** y **B** con columnas *a* y *b* cada una, y que la única consulta SQL que podemos realizar sobre estas tablas es obtener todos los elementos (```SELECT * FROM A``` o ```SELECT * FROM B```). Realizar un procedimiento almacenado que calcule la resta de estas dos tablas."
   ]
  },
  {
   "cell_type": "markdown",
   "metadata": {},
   "source": [
    "Deje de leer, inténtelo en la siguiente celda, y vuelva:"
   ]
  },
  {
   "cell_type": "code",
   "execution_count": null,
   "metadata": {},
   "outputs": [],
   "source": [
    "%%sql\n",
    "\n",
    "# Intenta resolver el ejercicio aquí\n",
    "\n",
    "\n",
    "\n",
    "\n",
    "\n",
    "\n",
    "\n",
    "\n",
    "# Filtro anti spoilers!"
   ]
  },
  {
   "cell_type": "markdown",
   "metadata": {},
   "source": [
    "### Solución:"
   ]
  },
  {
   "cell_type": "code",
   "execution_count": null,
   "metadata": {},
   "outputs": [],
   "source": [
    "%%sql\n",
    "\n",
    "CREATE OR REPLACE FUNCTION restar()\n",
    "RETURNS TABLE (number1 integer, numer2 integer) as $$\n",
    "DECLARE\n",
    "    r1 record;\n",
    "    r2 record;\n",
    "    se_restan bool;\n",
    "BEGIN\n",
    "    CREATE TABLE resta(number1 integer, number2 integer);\n",
    "    FOR r1 IN SELECT * FROM A LOOP\n",
    "        se_restan := FALSE;\n",
    "        FOR r2 IN SELECT * FROM B LOOP\n",
    "            IF r1 = r2 THEN\n",
    "                se_restan := TRUE;\n",
    "            END IF;\n",
    "        END LOOP;\n",
    "        IF NOT se_restan THEN\n",
    "            INSERT INTO resta VALUES(r1.a, r1.b);\n",
    "        END IF;\n",
    "    END LOOP;\n",
    "    RETURN QUERY SELECT * FROM resta;\n",
    "    DROP TABLE resta;\n",
    "    RETURN;\n",
    "END;\n",
    "$$ language plpgsql;"
   ]
  },
  {
   "cell_type": "markdown",
   "metadata": {},
   "source": [
    "Nuevamente, bastante directo. Iteramos sobre los elementos de A creando para cada uno una variable booleana ```se_restan``` con la cual vereificamos si se encuentra el elemento de A en B. En caso de no estar, lo agregamos tranquilamente a nuestra tabla auxiliar ```resta```.\n",
    "\n",
    "### Propuesto\n",
    "\n",
    "Teniendo los mismos supuestos de antes, es decir, dos tablas A y B con columnas *a* y *b* cada una. Escriba un procedimiento almacenado que calcule el producto cruz de A y B."
   ]
  },
  {
   "cell_type": "code",
   "execution_count": null,
   "metadata": {},
   "outputs": [],
   "source": [
    "%%sql\n",
    "\n",
    "# Intenta resolver el ejercicio aquí!"
   ]
  },
  {
   "cell_type": "markdown",
   "metadata": {},
   "source": [
    "# Problema 3: Calcular Distancias\n",
    "\n",
    "Otro ejercicio útil, sobre todo cuando se trabaja con bases de datos de lugares que contienen coordenadas geográficas, es calcular la distancia entre un punto dado y los lugares de la base de datos y filtrar por una distancia dada. De esta forma, se obtienen todos los lugares que se encuentren, por ejemplo, a menos de 10 Km del Campus San Joaquín.\n",
    "\n",
    "Para esto, resulta muy útil crear una función capaz de generar esta tabla de resultados utilizando procedimientos almacenados. Para calcular la distancia entre dos lugres podemos usar la fórmula de Haversine:\n",
    "\n",
    "+ ```Lugar1 = (lat1, lng1)```\n",
    "+ ```Lugar2 = (lat2, lng2)```\n",
    "\n",
    "$distancia = 6371 * acos(cos(radians(lat1)) * cos(radians(lat2)) * cos(radians(lng2)) - radians(lng1) + sin(radians(lat1)) * sin(radians(lat2)))$"
   ]
  },
  {
   "cell_type": "markdown",
   "metadata": {},
   "source": [
    "En donde ```Lugar1``` es nuestro punto de refencia/comparación. Realizar un procedimiento almacenado que dado un punto de referencia y una distancia, entregue una tabla  con todos los lugares que se encuentran a una distancia menor al valor entregado. *Hint: Revisar SQL Dinámico*.\n",
    "\n",
    "Para esto tienen la tabla:\n",
    "\n",
    "Lugares(**id integer**, nombre varchar(50), lat float, lng float)."
   ]
  },
  {
   "cell_type": "code",
   "execution_count": null,
   "metadata": {},
   "outputs": [],
   "source": [
    "%%sql\n",
    "DROP TABLE IF EXISTS Lugares;\n",
    "CREATE TABLE Lugares (id integer, nombre varchar(50), lat float, lng float, PRIMARY KEY(id));\n",
    "INSERT INTO Lugares VALUES (1, 'Casa Central', -33.4409096,-70.6421587);\n",
    "INSERT INTO Lugares VALUES (2, 'Concepción', 36.8261411,-73.1032568);\n",
    "SELECT * FROM Lugares;"
   ]
  },
  {
   "cell_type": "markdown",
   "metadata": {},
   "source": [
    "Ahora deja de leer e inténtalo!"
   ]
  },
  {
   "cell_type": "code",
   "execution_count": null,
   "metadata": {},
   "outputs": [],
   "source": [
    "%%sql\n",
    "\n",
    "# Intenta resolver el ejercicio aquí\n",
    "\n",
    "\n",
    "\n",
    "\n",
    "\n",
    "\n",
    "\n",
    "\n",
    "# Filtro anti spoilers!"
   ]
  },
  {
   "cell_type": "markdown",
   "metadata": {},
   "source": [
    "## Solución"
   ]
  },
  {
   "cell_type": "code",
   "execution_count": null,
   "metadata": {},
   "outputs": [],
   "source": [
    "%%sql\n",
    "DROP FUNCTION IF EXISTS HaversineDistance(double precision, double precision, integer);\n",
    "\n",
    "CREATE OR REPLACE FUNCTION\n",
    "HaversineDistance(lat1 float, lng1 float, distance integer)\n",
    "RETURNS TABLE (id integer, nombre varchar(50), distancia float) AS $$\n",
    "BEGIN\n",
    "RETURN QUERY EXECUTE 'SELECT id, nombre, 6371 * ACOS(least(greatest((COS(RADIANS($1)) * COS(RADIANS(lat)) * COS(RADIANS(lng)) - RADIANS($2) + SIN(RADIANS($1)) * SIN(RADIANS(lat))), -1), 1)) AS distancia FROM Lugares'\n",
    "        USING lat1, lng1, distance;\n",
    "        RETURN;\n",
    "END\n",
    "$$ language plpgsql"
   ]
  },
  {
   "cell_type": "markdown",
   "metadata": {},
   "source": [
    "Si lo vemos, es bastante directo. El procedimiento recibe 3 parámetros de entrada y se genera la consulta en SQL que filtra a través del ```HAVING``` los lugares cuya distancia al lugar de referencia sea menor a ```distance``` (en [km]).\n",
    "\n",
    "Finalmente, para ejecutar el procedimiento se debe llamar a ```SELECT * FROM HaversineDistance(-33.497579, -70.612246, 10);```, que nos entregará todos los lugares que se encuentran a menos de 10 km del Campus San Joaquín.\n",
    "\n",
    "**Observación**: Existe un *bug* en la función `ACOS` que nos obliga a usar `greatest` y `least`."
   ]
  },
  {
   "cell_type": "code",
   "execution_count": null,
   "metadata": {},
   "outputs": [],
   "source": [
    "%sql SELECT * FROM HaversineDistance(-33.497579, -70.612246, 10);"
   ]
  },
  {
   "cell_type": "markdown",
   "metadata": {},
   "source": [
    "## Propuesto\n",
    "\n",
    "Supongamos que existe la tabla ```Lugares``` como en el ejercicio anterior. Escriba un procedimiento almacenado que utilizando esta tabla, cree las siguientes dos tablas en la base de datos:\n",
    "\n",
    "+ ```Distancia(idlugar1 int, idlugar2 int, distancia float)```\n",
    "+ ```VecinoMasCercano(idlugar int, idvecino int)```\n",
    "\n",
    "Como los nombres sugieren, ```Distancia``` indica la distancia entre cada par de ulgares de la tabla ```Lugares``` y ```VecinoMasCercano``` contiene para cada lugar, su id y el id del lugar más cercano (que no es si mismo).\n",
    "\n",
    "A diferencia de casos anteriores, este procedimiento no debe entregar las tablas si no simplemente dejarlas almacenadas en la base de datos donde se trabaja y asume la existencia de la tabla ```Lugares```, no es necesario ingresar su nombre como parámetro."
   ]
  },
  {
   "cell_type": "code",
   "execution_count": null,
   "metadata": {},
   "outputs": [],
   "source": [
    "%%sql\n",
    "\n",
    "# Intenta resolver el ejercicio aquí!"
   ]
  }
 ],
 "metadata": {
  "kernelspec": {
   "display_name": "Python 3",
   "language": "python",
   "name": "python3"
  },
  "language_info": {
   "codemirror_mode": {
    "name": "ipython",
    "version": 3
   },
   "file_extension": ".py",
   "mimetype": "text/x-python",
   "name": "python",
   "nbconvert_exporter": "python",
   "pygments_lexer": "ipython3",
   "version": "3.7.1"
  }
 },
 "nbformat": 4,
 "nbformat_minor": 2
}

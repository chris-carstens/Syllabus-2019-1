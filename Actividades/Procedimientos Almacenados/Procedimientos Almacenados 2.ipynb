{
 "cells": [
  {
   "cell_type": "markdown",
   "metadata": {},
   "source": [
    "# Procedimientos Almacenados  2 - PL/pgSQL\n",
    "\n",
    "Importamos la librería para ejecutar código SQL en este jupyter notebook antes de empezar:"
   ]
  },
  {
   "cell_type": "code",
   "execution_count": null,
   "metadata": {},
   "outputs": [],
   "source": [
    "%load_ext sql"
   ]
  },
  {
   "cell_type": "markdown",
   "metadata": {},
   "source": [
    "Debes modificar la siguiente celda para que tenga los datos correctos para conectarse la instancia de PostgreSQL que corre en tu computador.\n",
    "\n",
    "``postgresql://<usuario_de_postgres>:<pass_de_postgres>@localhost/<nombre_db>``"
   ]
  },
  {
   "cell_type": "code",
   "execution_count": null,
   "metadata": {},
   "outputs": [],
   "source": [
    "%%sql \n",
    "postgresql://adriansotosuarez:@localhost/almacenados"
   ]
  },
  {
   "cell_type": "markdown",
   "metadata": {},
   "source": [
    "### Agradecimientos\n",
    "\n",
    "Este notebook fue escrito principalmente por el ayudante **Marcelo Saldías González**."
   ]
  },
  {
   "cell_type": "markdown",
   "metadata": {},
   "source": [
    "# 1. Trucos Avanzados"
   ]
  },
  {
   "cell_type": "markdown",
   "metadata": {},
   "source": [
    "¿Puedes adivinar que computa esta función?"
   ]
  },
  {
   "cell_type": "code",
   "execution_count": null,
   "metadata": {},
   "outputs": [],
   "source": [
    "%%sql\n",
    "\n",
    "CREATE OR REPLACE FUNCTION fib (\n",
    "numero INTEGER\n",
    ") RETURNS INTEGER AS $$\n",
    "BEGIN\n",
    "IF numero < 2 THEN\n",
    "RETURN numero;\n",
    "END IF;\n",
    "RETURN fib(numero - 2) + fib(numero - 1);\n",
    "END;\n",
    "$$ LANGUAGE plpgsql;"
   ]
  },
  {
   "cell_type": "code",
   "execution_count": null,
   "metadata": {},
   "outputs": [],
   "source": [
    "%sql SELECT fib(10);"
   ]
  },
  {
   "cell_type": "markdown",
   "metadata": {},
   "source": [
    "Exacto! Son los números de Fibonacci! Esto no tiene nada que ver con las bases de datos, dices. Pero ahora trata de ejecutar esta función en tu computador. Utiliza la celda anterior para probar con ```n = 10```, ```n = 20```, y ```n = 30```... Se demora muchísimo, y si te acuerdas de introducción a la programación, tiene toda la razón de demorarse, porque nuestro algoritmo recursivo está mal escrito. Por ejemplo, para n = 30 tenemos que llamar a ```fib(28)``` y ```fib(29)```, pero ambas requieren el cómputo de ```fib(27)```, y por lo tanto las ejecuciones de ```fib``` para números menores terminan ejecutándose miles de veces.\n",
    "\n",
    "Bueno, aprovechémonos de que tenemos una base de datos, y tratemos de guardar en una tabla temporal los resultados de fibonacci. No debería tomar mucho espacio.\n",
    "\n",
    "En la siguiente celda, crea una relación\n",
    "\n",
    "`Fib_cache(num INTEGER, fib INTEGER)`"
   ]
  },
  {
   "cell_type": "code",
   "execution_count": null,
   "metadata": {},
   "outputs": [],
   "source": [
    "%%sql\n",
    "DROP TABLE IF EXISTS Fib_cache;\n",
    "CREATE TABLE Fib_cache(num integer, fib integer, PRIMARY KEY(num));"
   ]
  },
  {
   "cell_type": "markdown",
   "metadata": {},
   "source": [
    "La relación anterior almacenará cada número ```num``` junto al número Fibonacci correspondiente a ```num``` (es decir, ```fib(num)```).\n",
    "\n",
    "Ahora observa"
   ]
  },
  {
   "cell_type": "code",
   "execution_count": null,
   "metadata": {},
   "outputs": [],
   "source": [
    "%%sql\n",
    "\n",
    "CREATE OR REPLACE FUNCTION fib_cacheando(\n",
    "  numero INTEGER\n",
    ") RETURNS INTEGER AS $$\n",
    "DECLARE\n",
    "ret INTEGER;\n",
    "BEGIN\n",
    "IF numero < 2 THEN\n",
    "    RETURN numero;\n",
    "END IF;\n",
    "SELECT INTO ret fib\n",
    "FROM fib_cache\n",
    "WHERE num = numero;\n",
    "IF ret IS NULL THEN\n",
    "    ret := fib_cacheando(numero - 2) + fib_cacheando(numero - 1);\n",
    "    INSERT INTO fib_cache (num, fib)\n",
    "    VALUES (numero, ret);\n",
    "END IF;\n",
    "RETURN ret;\n",
    "END;\n",
    "$$ language plpgsql;"
   ]
  },
  {
   "cell_type": "markdown",
   "metadata": {},
   "source": [
    "### ¿Que crees que esta pasando? Vamos paso por paso:"
   ]
  },
  {
   "cell_type": "markdown",
   "metadata": {},
   "source": [
    "```SQL\n",
    "CREATE OR REPLACE FUNCTION fib_cacheando(\n",
    "  numero INTEGER\n",
    ") RETURNS INTEGER AS $$\n",
    "DECLARE\n",
    "ret INTEGER;\n",
    "BEGIN\n",
    "IF numero < 2 THEN\n",
    "    RETURN numero;\n",
    "END IF;\n",
    "```"
   ]
  },
  {
   "cell_type": "markdown",
   "metadata": {},
   "source": [
    "Todo bien hasta acá, tomamos los casos bases 0 y 1"
   ]
  },
  {
   "cell_type": "markdown",
   "metadata": {},
   "source": [
    "```SQL\n",
    "SELECT INTO ret fib\n",
    "FROM fib_cache\n",
    "WHERE num = numero;\n",
    "```"
   ]
  },
  {
   "cell_type": "markdown",
   "metadata": {},
   "source": [
    "Usamos ```SELECT INTO <variable> <atributo> FROM...```  para guardar en ```<variable>``` el valor de la consulta ```SELECT <atributo> FROM...```. En este caso, buscamos en la tabla ```fib_cache``` si acaso tenemos la tupla del número de Fibonacci correspondiente a ```num```.\n",
    "\n",
    "```SQL\n",
    "IF ret IS NULL THEN\n",
    "    ret := fib_cacheando(numero - 2) + fib_cacheando(numero - 1);\n",
    "    INSERT INTO fib_cache (num, fib)\n",
    "    VALUES (numero, ret);\n",
    "END IF;\n",
    "```\n",
    "\n",
    "Si ```ret``` es nulo, significa que no tenemos esevalor, y hay que obtenerlo utilizando una llamada recursiva. Si ```ret``` no es nulo, significa que ya lo tenemos, y no tenemos que hacer nada más.\n",
    "\n",
    "```sql\n",
    "RETURN ret;\n",
    "END;\n",
    "$$ LANGUAGE plpsgsql\n",
    "```\n",
    "\n",
    "Finalmente retornamos el valor de ```ret```. Prueba ahora calcular ```fib_cacheando(30)```. ¡Mira lo rápido que funciona ahora!"
   ]
  },
  {
   "cell_type": "code",
   "execution_count": null,
   "metadata": {},
   "outputs": [],
   "source": [
    "%sql SELECT fib_cacheando(30);"
   ]
  },
  {
   "cell_type": "markdown",
   "metadata": {},
   "source": [
    "# 2. Retornando Tablas"
   ]
  },
  {
   "cell_type": "markdown",
   "metadata": {},
   "source": [
    "En la siguiente celda, crea la sigiuente relación:\n",
    "\n",
    "Vuelo(**ciudad_origen:varchar, ciudad_destino:varchar**, horas:integer)"
   ]
  },
  {
   "cell_type": "code",
   "execution_count": null,
   "metadata": {},
   "outputs": [],
   "source": [
    "%%sql\n",
    "DROP TABLE IF EXISTS Vuelo;\n",
    "CREATE TABLE Vuelo (ciudad_origen varchar, ciudad_destino varchar, horas integer, PRIMARY KEY(ciudad_origen, ciudad_destino));"
   ]
  },
  {
   "cell_type": "markdown",
   "metadata": {},
   "source": [
    "La idea de esta relación es que una tupla `(ciudad origen, ciudad destino, N)` indique que existe al menos un vuelo directo desde la ciudad origen a la ciudad destino, y que el vuelo más corto demora $N$ horas. Con la siguiente celda, llenaremos esta tabla con unas cuantas tuplas para ir probando las funciones que debes hacer."
   ]
  },
  {
   "cell_type": "code",
   "execution_count": null,
   "metadata": {},
   "outputs": [],
   "source": [
    "%%sql\n",
    "INSERT INTO Vuelo VALUES ('Santiago', 'Concepción', 2);\n",
    "INSERT INTO Vuelo VALUES ('Santiago', 'Seoul', 23);\n",
    "INSERT INTO Vuelo VALUES ('Concepción', 'Dallas', 24);\n",
    "INSERT INTO Vuelo VALUES ('Santiago', 'Shanghai', 10);\n",
    "INSERT INTO Vuelo VALUES ('New York', 'Los Angeles', 12);\n",
    "INSERT INTO Vuelo VALUES ('New York', 'London', 20);\n",
    "INSERT INTO Vuelo VALUES ('Dallas', 'Houston', 10);\n",
    "INSERT INTO Vuelo VALUES ('Dallas', 'Toronto', 15);\n",
    "INSERT INTO Vuelo VALUES ('Toronto', 'Chengdu', 12);\n",
    "INSERT INTO Vuelo VALUES ('Toronto', 'Huangzhou', 20);"
   ]
  },
  {
   "cell_type": "markdown",
   "metadata": {},
   "source": [
    "Queremos crear una función que reciba una ciudad C y retorne una tabla con todas las ciudades en las que existe un vuelo directo desde C, junto con el tiempo. Para esto, tenemos que decirle a la función que debe retornar una tabla (si, esto se puede hacer en SQL, pero lo hacemos acá porque es un buen ejercicio para empezar).\n",
    "\n",
    "Veamos primero como retornar una tabla cualquiera:"
   ]
  },
  {
   "cell_type": "code",
   "execution_count": null,
   "metadata": {},
   "outputs": [],
   "source": [
    "%%sql\n",
    "\n",
    "CREATE OR REPLACE FUNCTION\n",
    "retornar_vuelos ()\n",
    "RETURNS TABLE (ciudad_origen varchar(50), ciudad_destino varchar(50), \n",
    "              horas integer) AS $$\n",
    "BEGIN\n",
    "RETURN QUERY SELECT * FROM Vuelo;\n",
    "RETURN;\n",
    "END;\n",
    "$$ language plpgsql"
   ]
  },
  {
   "cell_type": "markdown",
   "metadata": {},
   "source": [
    "Nada muy impactante... lo único que hay que tomar en cuenta es que ```RETURN QUERY``` no retorna una función, solo asigna el valor de retorno a la tabla en cuestión (por eso retornamos explícitamente después).\n",
    "\n",
    "Una vez que cargues esta funcion en PostgreSQL, prueba llamándola como hemos hecho hasta ahora:"
   ]
  },
  {
   "cell_type": "code",
   "execution_count": null,
   "metadata": {},
   "outputs": [],
   "source": [
    "%sql SELECT retornar_vuelos();"
   ]
  },
  {
   "cell_type": "markdown",
   "metadata": {},
   "source": [
    "¿Algún Problema? ¿No se supone que retornaba una tabla? Efectivamente, y por eso es que si queremos que la seleccion haga explícito todos sus atributos, tenemos que consultar lo que retorna la función como si fuera una tabla!"
   ]
  },
  {
   "cell_type": "code",
   "execution_count": null,
   "metadata": {},
   "outputs": [],
   "source": [
    "%sql SELECT * from retornar_vuelos();"
   ]
  },
  {
   "cell_type": "markdown",
   "metadata": {},
   "source": [
    "# 2.1 SQL Dinámico\n",
    "\n",
    "¿Qué pasa cuando quiero que mi consulta se vea modificada de acuerdo al input de la función?\n",
    "\n",
    "En ese caso tenemos dos opciones:\n",
    "\n",
    "+ Generar la consulta como una concatenación de strings (alternativa mala)\n",
    "+ Usar SQL Dinámico (alternativa decente)\n",
    "\n",
    "Por qué es mejor SQL dinámico lo discutiremos en clases. Pero veamos en que consiste.\n",
    "\n",
    "La idea de SQL dinámico es \"preparar\" una consulta antes de saber los parámetros, y una vez que tengamos el valor de los parámetros, ejecutar la consulta, mediante el comando ```EXECUTE```.\n",
    "\n",
    "Veamos el ejemplo de los vuelos directos:"
   ]
  },
  {
   "cell_type": "code",
   "execution_count": null,
   "metadata": {},
   "outputs": [],
   "source": [
    "%%sql\n",
    "\n",
    "CREATE OR REPLACE FUNCTION\n",
    "vuelos_directos (c_origen varchar)\n",
    "RETURNS TABLE (ciudad_destino varchar(50), horas integer) AS $$\n",
    "BEGIN\n",
    "RETURN QUERY EXECUTE 'SELECT ciudad_destino, horas\n",
    "        FROM VUELO\n",
    "        WHERE ciudad_origen = $1'\n",
    "    USING c_origen;\n",
    "RETURN;\n",
    "END;\n",
    "$$ language plpgsql;\n"
   ]
  },
  {
   "cell_type": "markdown",
   "metadata": {},
   "source": [
    "La idea es almacenar en variables `($1, $2, etc)` los valores que necesitamos, y luego especificar las variables de donde sacamos estos valores con ```USING```."
   ]
  },
  {
   "cell_type": "code",
   "execution_count": null,
   "metadata": {},
   "outputs": [],
   "source": [
    "%sql SELECT * FROM vuelos_directos('Dallas');"
   ]
  },
  {
   "cell_type": "markdown",
   "metadata": {},
   "source": [
    "# 2.2 Ejercicio\n",
    "\n",
    "Imagina ahora que tienes una instancia de la tabla Vuelo con miles de datos, y te interesan todos los lugares a los que puedes llegar volando desde Santiago, sin importar el número de escalas. ¿Puedes pensar en un algoritmo para implementar esto usando una funcion?\n",
    "\n",
    "Escríbelo como una función en PLpgSQL. Puede que te sea útil pensar en como reutilizábamos una base de datos temporal para computar los números de Fibonacci."
   ]
  },
  {
   "cell_type": "code",
   "execution_count": null,
   "metadata": {},
   "outputs": [],
   "source": [
    "%%sql\n",
    "#Esribe tu respuesta aqui!"
   ]
  }
 ],
 "metadata": {
  "kernelspec": {
   "display_name": "Python 3",
   "language": "python",
   "name": "python3"
  },
  "language_info": {
   "codemirror_mode": {
    "name": "ipython",
    "version": 3
   },
   "file_extension": ".py",
   "mimetype": "text/x-python",
   "name": "python",
   "nbconvert_exporter": "python",
   "pygments_lexer": "ipython3",
   "version": "3.7.1"
  }
 },
 "nbformat": 4,
 "nbformat_minor": 2
}

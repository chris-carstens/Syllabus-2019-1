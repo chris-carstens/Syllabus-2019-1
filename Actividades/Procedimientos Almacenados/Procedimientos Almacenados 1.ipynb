{
 "cells": [
  {
   "cell_type": "markdown",
   "metadata": {},
   "source": [
    "# Procedimientos Almacenados - PL/pgSQL\n",
    "\n",
    "La mayoría de los DBMS ofrecen la posibilidad de programar funciones o procedimientos almacenados en el mismo DBMS. Estos procedimientos permiten tomar ventaja de todas las bondades de los DBMS. Esta semana vamos a aprender a programar estos procedimientos. Sqlite3 no soporta esta funcionalidad, así que vamos a tener que recurrir nuevamente a **PostgreSQL**.\n",
    "\n",
    "Gracias a la magia de los Jupyter Notebooks, utilizaremos la libreria ipython-sql para acceder a la base de datos PostgreSQL que tenemos instalada en nuestro computador."
   ]
  },
  {
   "cell_type": "code",
   "execution_count": null,
   "metadata": {},
   "outputs": [],
   "source": [
    "%load_ext sql"
   ]
  },
  {
   "cell_type": "markdown",
   "metadata": {},
   "source": [
    "Debes modificar la siguiente celda para que tenga los datos correctos para conectarse la instancia de PostgreSQL que corre en tu computador.\n",
    "\n",
    "``postgresql://<usuario_de_postgres>:<pass_de_postgres>@localhost/<nombre_db>``"
   ]
  },
  {
   "cell_type": "code",
   "execution_count": null,
   "metadata": {},
   "outputs": [],
   "source": [
    "%%sql \n",
    "postgresql://adriansotosuarez:@localhost/almacenados"
   ]
  },
  {
   "cell_type": "markdown",
   "metadata": {},
   "source": [
    "Antes de comenzar, en la siguiente celda, crea una relación:\n",
    "\n",
    "Personas(__run:varchar__, nombre:varchar, apellido:varchar)"
   ]
  },
  {
   "cell_type": "code",
   "execution_count": null,
   "metadata": {},
   "outputs": [],
   "source": [
    "%%sql \n",
    "DROP TABLE IF EXISTS Personas;\n",
    "CREATE TABLE Personas (run varchar, nombre varchar, apellido varchar, PRIMARY KEY(run))"
   ]
  },
  {
   "cell_type": "markdown",
   "metadata": {},
   "source": [
    "### Agradecimientos\n",
    "\n",
    "Este notebook fue escrito principalmente por el ayudante **Marcelo Saldías González**."
   ]
  },
  {
   "cell_type": "markdown",
   "metadata": {},
   "source": [
    "## Funciones Básicas\n",
    "\n",
    "La forma básica de las funciones es:\n",
    "\n",
    "```SQL\n",
    "CREATE OR REPLACE FUNCTION <nombre_función> (<atributos_de_input>)\n",
    "RETURNS <tipo_retorno> AS\n",
    "$$\n",
    "DECLARE\n",
    "    <declaración_de_variables>\n",
    "BEGIN\n",
    "    <sentencias_SQL>\n",
    "END\n",
    "$$ language plpgsql;\n",
    "```\n",
    "\n",
    "Acá tenemos:\n",
    "+ **nombre_función**: Es el nombre que le quieras dar a la función.\n",
    "\n",
    "+ **atributos_de_input**: Es una lista de atributos que recibe la función como input, de acuerdo a la sintáxis (input_1 tipo_1, input_2 tipo_2, ..., input_n tipo_n).\n",
    "+ **declaración_de_variables**:Es una lista de variables a declarar. Los tipos comunes son integer, numeric, varchar y record.\n",
    "+ **sentencias_SQL**: Contiene una lista de instrucciones SQL, cada una terminando en un punto y coma (;).\n",
    "\n",
    "Hagamos entonces nuestra primera función."
   ]
  },
  {
   "cell_type": "code",
   "execution_count": null,
   "metadata": {},
   "outputs": [],
   "source": [
    "%%sql\n",
    "CREATE OR REPLACE FUNCTION insertar_persona (rut varchar, nombre varchar, apellido varchar)\n",
    "RETURNS void AS\n",
    "$$\n",
    "BEGIN\n",
    "    INSERT INTO Personas VALUES (rut, nombre, apellido);\n",
    "END\n",
    "$$ language plpgsql"
   ]
  },
  {
   "cell_type": "markdown",
   "metadata": {},
   "source": [
    "Otra opción es escribir el código anterior en un editor de texto y guardarlo como **insertar_persona.sql**. Luego en postgres ejecutar:\n",
    "\n",
    "```\\i insertar_persona.sql```\n",
    "\n",
    "Con cualquiera de las opciones anteriores, le estás diciendo a postgreSQL que ejecute el comando que tenías guardado. PostgreSQL va a crear la función, que ya esta lista para ser usada. Con esto podemos poblar la base de datos de forma más rápida. \n",
    "\n",
    "Para ejecutar nuestra nueva función, ejecuta lo siguiente:"
   ]
  },
  {
   "cell_type": "code",
   "execution_count": null,
   "metadata": {},
   "outputs": [],
   "source": [
    "%%sql\n",
    "SELECT insertar_persona('unerut','unnombre','unapellido');"
   ]
  },
  {
   "cell_type": "markdown",
   "metadata": {},
   "source": [
    "Ahora vamos a verificar que la inserción se realizó correctamente mostrando todos las tuplas de la tabla Persona"
   ]
  },
  {
   "cell_type": "code",
   "execution_count": null,
   "metadata": {},
   "outputs": [],
   "source": [
    "%%sql\n",
    "SELECT * FROM Personas;"
   ]
  },
  {
   "cell_type": "markdown",
   "metadata": {},
   "source": [
    "Ahora intentaremos algo más radical:"
   ]
  },
  {
   "cell_type": "code",
   "execution_count": null,
   "metadata": {},
   "outputs": [],
   "source": [
    "%%sql\n",
    "\n",
    "CREATE OR REPLACE FUNCTION insercion_radical (numero integer)\n",
    "RETURNS void AS\n",
    "$$\n",
    "DECLARE\n",
    "    temp varchar;\n",
    "BEGIN\n",
    "    FOR i IN 1..numero LOOP\n",
    "        temp := to_char(i,'99999999');\n",
    "        INSERT INTO Personas VALUES (temp, temp, temp);\n",
    "    END LOOP;\n",
    "END\n",
    "$$ language plpgsql;"
   ]
  },
  {
   "cell_type": "markdown",
   "metadata": {},
   "source": [
    "Ahora estamos listos! Ejecuta lo siguiente para tener tu primera tabla con 10000 tuplas"
   ]
  },
  {
   "cell_type": "code",
   "execution_count": null,
   "metadata": {},
   "outputs": [],
   "source": [
    "%%sql\n",
    "\n",
    "SELECT insercion_radical(10000);\n",
    "SELECT * FROM Personas;"
   ]
  },
  {
   "cell_type": "markdown",
   "metadata": {},
   "source": [
    "Hay un par de elementos por explicar acá:\n",
    "\n",
    "+ El control de flujo en esta función está dado por:\n",
    "\n",
    "```SQL\n",
    "FOR <var> IN <x>...<Y> LOOP\n",
    "    <sentencias_SQL>\n",
    "END LOOP;\n",
    "```\n",
    "No necesitas haber declarado var, pero solo es válida dentro del loop (de hecho, al entrar al loop ingnoras la declaración anterior, si existiese). En general `x` e `y` pueden ser números, variables numéricas o expresiones.\n",
    "\n",
    "+ Existen otras formas de iteración, como `WHILE` y `LOOP`.\n",
    "+ La linea `temp := to_char(i, '999999999');` dice que la variable `temp` ahora corresponde a loa que retorna la funcion `to_char`. Esta función toma un número _n_ y un string _f_, y devuelve el número _n_ como un string, en el formato que indicaste con _f_. En general postgreSQL tiene miles de funciones como ésta, que ya están hechas. ¡Consulta la documentación!"
   ]
  },
  {
   "cell_type": "markdown",
   "metadata": {},
   "source": [
    "Como control de lujo puedes escribir:\n",
    "\n",
    "```SQL\n",
    "IF <condicion booleana> THEN\n",
    "    <sentencias SQL>\n",
    "ELSE\n",
    "    <sentencias SQL>\n",
    "END IF;\n",
    "```\n",
    "\n",
    "En este caso, la condicion booleana es cualquier comparación que puedas escribir en SQL."
   ]
  },
  {
   "cell_type": "markdown",
   "metadata": {},
   "source": [
    "## Recorriendo los resultados de una consulta\n",
    "\n",
    "La capacidad para recorrer, en el entorno mismo del DBMS, los resultados de las consultas es quizá lo más importante en las funciones.\n",
    "\n",
    "Para eso necesitamos una variable de tip ```RECORD```. Este es un tipo abstracto que sirve para contener los resultados de una tupla.\n",
    "\n",
    "La forma básica de recorrer los resultados de una consulta es entonces:\n",
    "\n",
    "```sql\n",
    "FOR <record> IN <consulta SQL> LOOP\n",
    "    <sentencias SQL>\n",
    "END LOOP;\n",
    "```\n",
    "\n",
    "Esto funcion de la siguiente manera: El sistema ejecuta la ```<consulta SQL>``` y va iterando tupla a tupla la respuesta: la primera tupla de la respuesta queda guardada en la variable ```<record>```, cuando se terminan de ejecutar las ```<sentencias SQL>``` se pasa a la segunda iteración, donde la segunda tupla de la respuesta a ```<consulta SQL>``` pasa a la variable ```<record>``` y así sucesivamente.\n",
    "\n",
    "A modo de ejemplo, en la siguiente celda crea la siguiente tabla en postgres:\n",
    "\n",
    "PersonasCompleto(**run:varchar**, nombrecompleto:varchar)"
   ]
  },
  {
   "cell_type": "code",
   "execution_count": null,
   "metadata": {},
   "outputs": [],
   "source": [
    "%%sql\n",
    "DROP TABLE IF EXISTS PersonasCompleto;\n",
    "CREATE TABLE PersonasCompleto (run varchar, nombrecompleto varchar, PRIMARY KEY(run));"
   ]
  },
  {
   "cell_type": "markdown",
   "metadata": {},
   "source": [
    "La siguiente función se usa para copiar a `PersonasCompleto` el rut y la concatenación del nombre y el apellido de cada persona almacenado en la tabla Persona."
   ]
  },
  {
   "cell_type": "code",
   "execution_count": null,
   "metadata": {},
   "outputs": [],
   "source": [
    "%%sql\n",
    "\n",
    "CREATE OR REPLACE FUNCTION transferencia()\n",
    "RETURNS void AS $$\n",
    "DECLARE\n",
    "    tupla RECORD;\n",
    "    concat varchar;\n",
    "BEGIN\n",
    "    FOR tupla IN SELECT * FROM Personas LOOP\n",
    "        concat = tupla.nombre || tupla.apellido;\n",
    "        INSERT INTO PersonasCompleto VALUES (tupla.run, concat);\n",
    "    END LOOP;\n",
    "END\n",
    "$$ language plpgsql"
   ]
  },
  {
   "cell_type": "markdown",
   "metadata": {},
   "source": [
    "Ahora ejecutemos nuestra nueva funcion!"
   ]
  },
  {
   "cell_type": "code",
   "execution_count": null,
   "metadata": {},
   "outputs": [],
   "source": [
    "%%sql\n",
    "SELECT transferencia();\n",
    "SELECT * FROM PersonasCompleto;"
   ]
  },
  {
   "cell_type": "markdown",
   "metadata": {},
   "source": [
    "# Ejercicios\n",
    "\n",
    "+ Escribe una función que reciba un número $i$, y retorne la $i$-ésima potencia de 2 (no tiene que ver con base de datos, pero es bueno para revisar que entiendes el entorno de programación!)"
   ]
  },
  {
   "cell_type": "code",
   "execution_count": null,
   "metadata": {},
   "outputs": [],
   "source": [
    "%%sql\n",
    "\n",
    "# Escribe tu código aquí!"
   ]
  },
  {
   "cell_type": "markdown",
   "metadata": {},
   "source": [
    "+ Escribe una función que retorne el número de tuplas en la tabla Personas"
   ]
  },
  {
   "cell_type": "code",
   "execution_count": null,
   "metadata": {},
   "outputs": [],
   "source": [
    "%%sql\n",
    "\n",
    "#Escribe tu código aquí!"
   ]
  },
  {
   "cell_type": "markdown",
   "metadata": {},
   "source": [
    "+ Escribe una función ```contar_K()``` que entregue el número de ruts en la tabla personas que terminan con K (recuerda que puedes usar el operador ```LIKE```)"
   ]
  },
  {
   "cell_type": "code",
   "execution_count": null,
   "metadata": {},
   "outputs": [],
   "source": [
    "%%sql\n",
    "\n",
    "#Escribe tu código aquí!"
   ]
  }
 ],
 "metadata": {
  "kernelspec": {
   "display_name": "Python 3",
   "language": "python",
   "name": "python3"
  },
  "language_info": {
   "codemirror_mode": {
    "name": "ipython",
    "version": 3
   },
   "file_extension": ".py",
   "mimetype": "text/x-python",
   "name": "python",
   "nbconvert_exporter": "python",
   "pygments_lexer": "ipython3",
   "version": "3.7.1"
  }
 },
 "nbformat": 4,
 "nbformat_minor": 2
}
